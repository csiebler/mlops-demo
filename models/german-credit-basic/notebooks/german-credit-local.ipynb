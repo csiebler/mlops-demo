{
 "cells": [
  {
   "cell_type": "markdown",
   "metadata": {},
   "source": [
    "## Connect to AML workspace & access data"
   ]
  },
  {
   "cell_type": "code",
   "execution_count": null,
   "metadata": {},
   "outputs": [],
   "source": [
    "from azureml.core import Workspace, Dataset\n",
    "\n",
    "ws = Workspace.from_config()"
   ]
  },
  {
   "cell_type": "code",
   "execution_count": null,
   "metadata": {},
   "outputs": [],
   "source": [
    "print(ws.name, ws.resource_group, ws.location, ws.subscription_id, sep = '\\n')"
   ]
  },
  {
   "cell_type": "code",
   "execution_count": null,
   "metadata": {},
   "outputs": [],
   "source": [
    "dataset = Dataset.get_by_name(ws, name='german_credit_dataset')\r\n",
    "df = dataset.to_pandas_dataframe()"
   ]
  },
  {
   "cell_type": "code",
   "execution_count": null,
   "metadata": {},
   "outputs": [],
   "source": [
    "df.head()"
   ]
  },
  {
   "cell_type": "code",
   "execution_count": null,
   "metadata": {},
   "outputs": [],
   "source": [
    "import matplotlib.pyplot as plt\r\n",
    "\r\n",
    "df.plot(kind='scatter', x='Age', y='Credit amount')\r\n",
    "plt.show()"
   ]
  },
  {
   "cell_type": "markdown",
   "metadata": {},
   "source": [
    "## Train model"
   ]
  },
  {
   "cell_type": "code",
   "execution_count": null,
   "metadata": {},
   "outputs": [],
   "source": [
    "from sklearn.compose import ColumnTransformer\r\n",
    "from sklearn.impute import SimpleImputer\r\n",
    "from sklearn.linear_model import LogisticRegression\r\n",
    "from sklearn.model_selection import train_test_split\r\n",
    "from sklearn.pipeline import Pipeline\r\n",
    "from sklearn.preprocessing import LabelEncoder, OneHotEncoder, StandardScaler\r\n",
    "\r\n",
    "df.drop(\"Sno\", axis=1, inplace=True)\r\n",
    "\r\n",
    "y_raw = df['Risk']\r\n",
    "X_raw = df.drop('Risk', axis=1)\r\n",
    "\r\n",
    "categorical_features = X_raw.select_dtypes(include=['object']).columns\r\n",
    "numeric_features = X_raw.select_dtypes(include=['int64', 'float']).columns\r\n",
    "\r\n",
    "categorical_transformer = Pipeline(steps=[\r\n",
    "    ('imputer', SimpleImputer(strategy='constant', fill_value=\"missing\")),\r\n",
    "    ('onehotencoder', OneHotEncoder(categories='auto', sparse=False))])\r\n",
    "\r\n",
    "numeric_transformer = Pipeline(steps=[\r\n",
    "    ('scaler', StandardScaler())])\r\n",
    "\r\n",
    "feature_engineering_pipeline = ColumnTransformer(\r\n",
    "    transformers=[\r\n",
    "        ('numeric', numeric_transformer, numeric_features),\r\n",
    "        ('categorical', categorical_transformer, categorical_features)\r\n",
    "    ], remainder=\"drop\")\r\n",
    "\r\n",
    "# Encode Labels\r\n",
    "le = LabelEncoder()\r\n",
    "encoded_y = le.fit_transform(y_raw)"
   ]
  },
  {
   "cell_type": "code",
   "execution_count": null,
   "metadata": {},
   "outputs": [],
   "source": [
    "# Train test split\n",
    "X_train, X_test, y_train, y_test = train_test_split(X_raw, encoded_y, test_size=0.20, stratify=encoded_y, random_state=42)\n",
    "\n",
    "# Create sklearn pipeline\n",
    "lr_clf = Pipeline(steps=[('preprocessor', feature_engineering_pipeline),\n",
    "                         ('classifier', LogisticRegression(solver=\"lbfgs\"))])"
   ]
  },
  {
   "cell_type": "code",
   "execution_count": null,
   "metadata": {},
   "outputs": [],
   "source": [
    "from azureml.core import Experiment\r\n",
    "\r\n",
    "experiment_name = 'german_credit_data_local'\r\n",
    "experiment = Experiment(ws, experiment_name)\r\n",
    "\r\n",
    "run = experiment.start_logging()\r\n",
    "\r\n",
    "# Train the model\r\n",
    "lr_clf.fit(X_train, y_train)\r\n",
    "\r\n",
    "# Capture metrics\r\n",
    "train_acc = lr_clf.score(X_train, y_train)\r\n",
    "test_acc = lr_clf.score(X_test, y_test)\r\n",
    "print(\"Train accuracy: %.3f\" % train_acc)\r\n",
    "print(\"Test accuracy: %.3f\" % test_acc)\r\n",
    "\r\n",
    "# Log to Azure ML\r\n",
    "run.log('Train accuracy', train_acc)\r\n",
    "run.log('Test accuracy', test_acc)\r\n",
    "    \r\n",
    "run.complete()"
   ]
  },
  {
   "cell_type": "code",
   "execution_count": null,
   "metadata": {},
   "outputs": [],
   "source": [
    "from sklearn.externals import joblib\n",
    "\n",
    "joblib.dump(value=lr_clf, filename='model.pkl')\n",
    "\n",
    "# Upload our model to our experiment\n",
    "run.upload_file(name = 'outputs/model.pkl', path_or_stream = './model.pkl')"
   ]
  },
  {
   "cell_type": "markdown",
   "metadata": {},
   "source": [
    "Finally, we can register the model in the Model Registry, optionally also with no-code deployment settings"
   ]
  },
  {
   "cell_type": "code",
   "execution_count": null,
   "metadata": {},
   "outputs": [],
   "source": [
    "from azureml.core import Model\r\n",
    "from azureml.core.resource_configuration import ResourceConfiguration\r\n",
    "\r\n",
    "model = run.register_model(model_name='german-credit-local-model',\r\n",
    "                           model_path='outputs/model.pkl',\r\n",
    "                           datasets=[['training-dataset', dataset]],\r\n",
    "                           tags={\"source\": \"local_training_demo\"},\r\n",
    "                           # optional for no-code deployments\r\n",
    "                           model_framework=Model.Framework.SCIKITLEARN,\r\n",
    "                           model_framework_version='0.20.3',\r\n",
    "                           resource_configuration=ResourceConfiguration(cpu=0.5, memory_in_gb=0.25))"
   ]
  },
  {
   "cell_type": "markdown",
   "metadata": {},
   "source": [
    "## Calculate Model Explaination"
   ]
  },
  {
   "cell_type": "code",
   "execution_count": null,
   "metadata": {},
   "outputs": [],
   "source": [
    "# Explain model\n",
    "from azureml.core.run import Run\n",
    "from azureml.interpret import ExplanationClient\n",
    "from interpret.ext.blackbox import TabularExplainer\n",
    "\n",
    "client = ExplanationClient.from_run(run)\n",
    "\n",
    "explainer = TabularExplainer(lr_clf.steps[-1][1], \n",
    "                             initialization_examples=X_train, \n",
    "                             features=X_raw.columns, \n",
    "                             classes=[\"Good\", \"Bad\"], \n",
    "                             transformations=feature_engineering_pipeline)\n",
    "\n",
    "# explain overall model predictions (global explanation)\n",
    "global_explanation = explainer.explain_global(X_test)\n",
    "\n",
    "# Sorted SHAP values\n",
    "print('ranked global importance values: {}'.format(global_explanation.get_ranked_global_values()))\n",
    "# Corresponding feature names\n",
    "print('ranked global importance names: {}'.format(global_explanation.get_ranked_global_names()))\n",
    "# Feature ranks (based on original order of features)\n",
    "print('global importance rank: {}'.format(global_explanation.global_importance_rank))\n",
    "\n",
    "client = ExplanationClient.from_run(run)\n",
    "client.upload_model_explanation(global_explanation, comment='Global Explanation: All Features')\n"
   ]
  },
  {
   "cell_type": "code",
   "execution_count": null,
   "metadata": {},
   "outputs": [],
   "source": []
  }
 ],
 "metadata": {
  "kernelspec": {
   "display_name": "Python 3.7.9 64-bit ('azureml': conda)",
   "name": "python379jvsc74a57bd054b76a1167e0a2b6a6b8c7f2df323eb2ecfae9d2bbefe58fb0609bf9141d6860"
  },
  "language_info": {
   "name": "python",
   "version": ""
  }
 },
 "nbformat": 4,
 "nbformat_minor": 4
}