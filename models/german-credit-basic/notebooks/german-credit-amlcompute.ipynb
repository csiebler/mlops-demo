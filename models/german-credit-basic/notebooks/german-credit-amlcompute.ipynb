{
 "cells": [
  {
   "cell_type": "markdown",
   "metadata": {},
   "source": [
    "# Connect to workspace"
   ]
  },
  {
   "cell_type": "code",
   "execution_count": null,
   "metadata": {
    "tags": []
   },
   "outputs": [],
   "source": [
    "import azureml.core\n",
    "from azureml.core import Workspace, Dataset\n",
    "\n",
    "ws = Workspace.from_config()\n",
    "\n",
    "print(azureml.core.VERSION)"
   ]
  },
  {
   "cell_type": "markdown",
   "metadata": {},
   "source": [
    "# Create compute cluster"
   ]
  },
  {
   "cell_type": "code",
   "execution_count": null,
   "metadata": {
    "tags": []
   },
   "outputs": [],
   "source": [
    "from azureml.core.compute import AmlCompute, ComputeTarget\r\n",
    "\r\n",
    "compute_name = \"cpu-cluster\"\r\n",
    "\r\n",
    "if compute_name in ws.compute_targets:\r\n",
    "    compute_target = ws.compute_targets[compute_name]\r\n",
    "    if compute_target and type(compute_target) is AmlCompute:\r\n",
    "        print('Compute target exists, will reuse it.')\r\n",
    "else:\r\n",
    "    print('Creating a new compute target...')\r\n",
    "    config = AmlCompute.provisioning_configuration(vm_size = 'STANDARD_DS3_V2',\r\n",
    "                                                   min_nodes = 0, \r\n",
    "                                                   max_nodes = 1)\r\n",
    "    compute_target = ComputeTarget.create(ws, compute_name, config)\r\n",
    "    compute_target.wait_for_completion(show_output=True)\r\n",
    "    print(compute_target.get_status().serialize())"
   ]
  },
  {
   "cell_type": "markdown",
   "metadata": {},
   "source": [
    "# Generate experiment and run it in Azure Machine Learning"
   ]
  },
  {
   "cell_type": "markdown",
   "metadata": {},
   "source": [
    "Create experiment:"
   ]
  },
  {
   "cell_type": "code",
   "execution_count": null,
   "metadata": {},
   "outputs": [],
   "source": [
    "from azureml.core import Experiment\r\n",
    "\r\n",
    "experiment_name = 'german_credit_data_remote'\r\n",
    "experiment = Experiment(ws, experiment_name)"
   ]
  },
  {
   "cell_type": "markdown",
   "metadata": {},
   "source": [
    "Define runtime environmnent:"
   ]
  },
  {
   "cell_type": "code",
   "execution_count": null,
   "metadata": {},
   "outputs": [],
   "source": [
    "from azureml.core import Environment\r\n",
    "from azureml.core.runconfig import DockerConfiguration\r\n",
    "from azureml.core.conda_dependencies import CondaDependencies\r\n",
    "\r\n",
    "train_env = Environment(\"train-env\")\r\n",
    "train_env.python.conda_dependencies = CondaDependencies(\"../config/train-conda.yml\")\r\n",
    "\r\n",
    "docker_config = DockerConfiguration(use_docker=True)"
   ]
  },
  {
   "cell_type": "markdown",
   "metadata": {},
   "source": [
    "Load our dataset and create a script run:"
   ]
  },
  {
   "cell_type": "code",
   "execution_count": null,
   "metadata": {},
   "outputs": [],
   "source": [
    "from azureml.core import ScriptRunConfig\r\n",
    "\r\n",
    "dataset = Dataset.get_by_name(ws, name='german_credit_file')\r\n",
    "\r\n",
    "config = ScriptRunConfig(source_directory='../', \r\n",
    "                         script='train.py',\r\n",
    "                         arguments=['--data_path', dataset.as_download(), '--model_name', 'credit-prediction.pkl'],\r\n",
    "                         compute_target=compute_target, \r\n",
    "                         environment=train_env,\r\n",
    "                         docker_runtime_config=docker_config)\r\n",
    "\r\n",
    "run = experiment.submit(config=config)\r\n",
    "run"
   ]
  },
  {
   "cell_type": "code",
   "execution_count": null,
   "metadata": {},
   "outputs": [],
   "source": [
    "from azureml.widgets import RunDetails\n",
    "RunDetails(run).show()"
   ]
  },
  {
   "cell_type": "code",
   "execution_count": null,
   "metadata": {},
   "outputs": [],
   "source": [
    "run.get_metrics()"
   ]
  },
  {
   "cell_type": "markdown",
   "metadata": {},
   "source": [
    "## Register model to workspace"
   ]
  },
  {
   "cell_type": "code",
   "execution_count": null,
   "metadata": {},
   "outputs": [],
   "source": [
    "model = run.register_model(model_name='german-credit-basic-model',\n",
    "                           model_path='outputs/credit-prediction.pkl',\n",
    "                           datasets=[['training-dataset', dataset]],\n",
    "                           tags={'source': 'amlcompute_training_demo'})"
   ]
  }
 ],
 "metadata": {
  "kernelspec": {
   "display_name": "Python 3.7.9 64-bit ('azureml': conda)",
   "name": "python379jvsc74a57bd054b76a1167e0a2b6a6b8c7f2df323eb2ecfae9d2bbefe58fb0609bf9141d6860"
  },
  "language_info": {
   "name": "python",
   "version": ""
  }
 },
 "nbformat": 4,
 "nbformat_minor": 4
}