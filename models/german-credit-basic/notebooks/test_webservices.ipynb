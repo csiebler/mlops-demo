{
 "cells": [
  {
   "cell_type": "markdown",
   "metadata": {},
   "source": [
    "# Test against QA environement"
   ]
  },
  {
   "cell_type": "code",
   "execution_count": null,
   "metadata": {},
   "outputs": [],
   "source": [
    "import requests\n",
    "import json\n",
    "\n",
    "url = 'http://<your URL>.eastus2.azurecontainer.io/score'\n",
    "key = '<API KEY>'\n",
    "\n",
    "test_data = {\n",
    "  'data': [{\n",
    "    \"Age\": 20,\n",
    "    \"Sex\": \"male\",\n",
    "    \"Job\": 0,\n",
    "    \"Housing\": \"own\",\n",
    "    \"Saving accounts\": \"little\",\n",
    "    \"Checking account\": \"little\",\n",
    "    \"Credit amount\": 100,\n",
    "    \"Duration\": 48,\n",
    "    \"Purpose\": \"radio/TV\"\n",
    "  }]\n",
    "}\n",
    "\n",
    "headers = {'Content-Type': 'application/json', 'Authorization': 'Bearer ' + key}\n",
    "resp = requests.post(url, json=test_data, headers=headers)\n",
    "\n",
    "print(\"Prediction (good, bad):\", resp.text)"
   ]
  },
  {
   "cell_type": "markdown",
   "metadata": {},
   "source": [
    "# Test against production environment"
   ]
  },
  {
   "cell_type": "code",
   "execution_count": null,
   "metadata": {},
   "outputs": [],
   "source": [
    "import requests\n",
    "import json\n",
    "\n",
    "url = 'http://<Your URL>:80/api/v1/service/german-credit-prod-1/score'\n",
    "key = '<API KEY>'\n",
    "\n",
    "test_data = {\n",
    "  'data': [{\n",
    "    \"Age\": 20,\n",
    "    \"Sex\": \"male\",\n",
    "    \"Job\": 0,\n",
    "    \"Housing\": \"own\",\n",
    "    \"Saving accounts\": \"little\",\n",
    "    \"Checking account\": \"little\",\n",
    "    \"Credit amount\": 100,\n",
    "    \"Duration\": 48,\n",
    "    \"Purpose\": \"radio/TV\"\n",
    "  }]\n",
    "}\n",
    "\n",
    "headers = {'Content-Type': 'application/json', 'Authorization': 'Bearer ' + key}\n",
    "resp = requests.post(url, json=test_data, headers=headers)\n",
    "\n",
    "print(\"Prediction (good, bad):\", resp.text)"
   ]
  },
  {
   "cell_type": "code",
   "execution_count": null,
   "metadata": {},
   "outputs": [],
   "source": []
  }
 ],
 "metadata": {
  "kernelspec": {
   "display_name": "Python 3.6 - AzureML",
   "language": "python",
   "name": "python3-azureml"
  },
  "language_info": {
   "codemirror_mode": {
    "name": "ipython",
    "version": 3
   },
   "file_extension": ".py",
   "mimetype": "text/x-python",
   "name": "python",
   "nbconvert_exporter": "python",
   "pygments_lexer": "ipython3",
   "version": "3.6.9"
  }
 },
 "nbformat": 4,
 "nbformat_minor": 4
}