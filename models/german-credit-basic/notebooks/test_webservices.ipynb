{
 "cells": [
  {
   "cell_type": "markdown",
   "metadata": {},
   "source": [
    "# Test AKS webservice"
   ]
  },
  {
   "cell_type": "code",
   "execution_count": null,
   "metadata": {},
   "outputs": [],
   "source": [
    "import requests\r\n",
    "import json\r\n",
    "\r\n",
    "url = 'https://<Your URL>:443/api/v1/service/german-credit-prod-1/score'\r\n",
    "key = '<API KEY>'\r\n",
    "\r\n",
    "test_data = {\r\n",
    "  'data': [{\r\n",
    "    \"Age\": 20,\r\n",
    "    \"Sex\": \"male\",\r\n",
    "    \"Job\": 0,\r\n",
    "    \"Housing\": \"own\",\r\n",
    "    \"Saving accounts\": \"little\",\r\n",
    "    \"Checking account\": \"little\",\r\n",
    "    \"Credit amount\": 100,\r\n",
    "    \"Duration\": 48,\r\n",
    "    \"Purpose\": \"radio/TV\"\r\n",
    "  }]\r\n",
    "}\r\n",
    "\r\n",
    "headers = {'Content-Type': 'application/json', 'Authorization': 'Bearer ' + key}\r\n",
    "resp = requests.post(url, json=test_data, headers=headers)\r\n",
    "\r\n",
    "print(\"Prediction (good, bad):\", resp.text)"
   ]
  },
  {
   "cell_type": "markdown",
   "metadata": {},
   "source": [
    "# Continuously create load on the webservice"
   ]
  },
  {
   "cell_type": "code",
   "execution_count": null,
   "metadata": {},
   "outputs": [],
   "source": [
    "import requests\r\n",
    "import json\r\n",
    "import random\r\n",
    "import time\r\n",
    "\r\n",
    "url = 'https://<Your URL>:443/api/v1/service/german-credit-prod-1/score'\r\n",
    "key = '<API KEY>'\r\n",
    "\r\n",
    "for i in range(1, 1000):\r\n",
    "\r\n",
    "    test_data = {\r\n",
    "      'data': [{\r\n",
    "        \"Age\": random.randint(18, 80),\r\n",
    "        \"Sex\": random.choice([\"male\", \"female\"]),\r\n",
    "        \"Job\": random.randint(0, 3),\r\n",
    "        \"Housing\": random.choice([\"own\", \"rent\"]),\r\n",
    "        \"Saving accounts\": random.choice([\"little\", \"moderate\", \"rich\"]),\r\n",
    "        \"Checking account\": random.choice([\"little\", \"moderate\", \"rich\"]),\r\n",
    "        \"Credit amount\": random.randint(100, 100000),\r\n",
    "        \"Duration\": random.choice([6, 12, 24, 36, 48]),\r\n",
    "        \"Purpose\": random.choice([\"radio/TV\", \"car\", \"business\"])\r\n",
    "      }]\r\n",
    "    }\r\n",
    "\r\n",
    "    headers = {'Content-Type': 'application/json', 'Authorization': 'Bearer ' + key}\r\n",
    "    resp = requests.post(url, json=test_data, headers=headers)\r\n",
    "\r\n",
    "    print(\"Prediction (good, bad):\", resp.text)\r\n",
    "    time.sleep(1)"
   ]
  }
 ],
 "metadata": {
  "kernelspec": {
   "display_name": "Python 3.6 - AzureML",
   "language": "python",
   "name": "python3-azureml"
  },
  "language_info": {
   "codemirror_mode": {
    "name": "ipython",
    "version": 3
   },
   "file_extension": ".py",
   "mimetype": "text/x-python",
   "name": "python",
   "nbconvert_exporter": "python",
   "pygments_lexer": "ipython3",
   "version": "3.6.9"
  }
 },
 "nbformat": 4,
 "nbformat_minor": 4
}