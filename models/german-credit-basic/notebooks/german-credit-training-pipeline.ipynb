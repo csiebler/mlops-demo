{
 "cells": [
  {
   "cell_type": "markdown",
   "metadata": {},
   "source": [
    "# Connect to workspace"
   ]
  },
  {
   "cell_type": "code",
   "execution_count": null,
   "metadata": {
    "tags": []
   },
   "outputs": [],
   "source": [
    "import os\r\n",
    "import azureml.core\r\n",
    "from azureml.core import Workspace, Experiment, Dataset, RunConfiguration\r\n",
    "from azureml.pipeline.core import Pipeline, PipelineData\r\n",
    "from azureml.pipeline.steps import PythonScriptStep\r\n",
    "from azureml.data.dataset_consumption_config import DatasetConsumptionConfig\r\n",
    "\r\n",
    "print(\"Azure ML SDK version:\", azureml.core.VERSION)\r\n",
    "\r\n",
    "ws = Workspace.from_config()\r\n",
    "print(ws)"
   ]
  },
  {
   "cell_type": "markdown",
   "metadata": {},
   "source": [
    "# Create Pipeline"
   ]
  },
  {
   "cell_type": "code",
   "execution_count": null,
   "metadata": {
    "tags": []
   },
   "outputs": [],
   "source": [
    "dataset = Dataset.get_by_name(ws, \"german_credit_file\")\r\n",
    "dataset_consumption = DatasetConsumptionConfig(\"training_dataset\", dataset).as_download()"
   ]
  },
  {
   "cell_type": "code",
   "execution_count": null,
   "metadata": {},
   "outputs": [],
   "source": [
    "from azureml.core import Environment\r\n",
    "from azureml.core.conda_dependencies import CondaDependencies\r\n",
    "\r\n",
    "runconfig = RunConfiguration()\r\n",
    "runconfig.target = 'cpu-cluster'\r\n",
    "\r\n",
    "train_env = Environment(\"train-env\")\r\n",
    "train_env.docker.enabled = True\r\n",
    "train_env.python.conda_dependencies = CondaDependencies(\"../config/train-conda.yml\")\r\n",
    "\r\n",
    "runconfig.environment = train_env\r\n",
    "\r\n",
    "\r\n",
    "train_step = PythonScriptStep(name=\"train-step\",\r\n",
    "                        source_directory=\"../\",\r\n",
    "                        script_name=\"train.py\",\r\n",
    "                        arguments=['--data_path', dataset_consumption, '--model_name', 'credit-prediction.pkl'],\r\n",
    "                        inputs=[dataset_consumption],\r\n",
    "                        runconfig=runconfig,\r\n",
    "                        allow_reuse=False)\r\n",
    "\r\n",
    "steps = [train_step]\r\n",
    "\r\n",
    "pipeline = Pipeline(workspace=ws, steps=steps)\r\n",
    "pipeline.validate()"
   ]
  },
  {
   "cell_type": "code",
   "execution_count": null,
   "metadata": {},
   "outputs": [],
   "source": [
    "pipeline_run = Experiment(ws, 'german-credit-training').submit(pipeline)\r\n",
    "pipeline_run.wait_for_completion()"
   ]
  },
  {
   "cell_type": "markdown",
   "metadata": {},
   "source": [
    "Publish pipelines to AML Workspace for reuse:"
   ]
  },
  {
   "cell_type": "code",
   "execution_count": null,
   "metadata": {},
   "outputs": [],
   "source": [
    "published_pipeline = pipeline.publish('german-credit-training')\r\n",
    "published_pipeline\r\n"
   ]
  }
 ],
 "metadata": {
  "kernelspec": {
   "display_name": "Python 3.7.9 64-bit ('azureml': conda)",
   "metadata": {
    "interpreter": {
     "hash": "54b76a1167e0a2b6a6b8c7f2df323eb2ecfae9d2bbefe58fb0609bf9141d6860"
    }
   },
   "name": "python3"
  },
  "language_info": {
   "codemirror_mode": {
    "name": "ipython",
    "version": 3
   },
   "file_extension": ".py",
   "mimetype": "text/x-python",
   "name": "python",
   "nbconvert_exporter": "python",
   "pygments_lexer": "ipython3",
   "version": "3.7.9"
  }
 },
 "nbformat": 4,
 "nbformat_minor": 4
}