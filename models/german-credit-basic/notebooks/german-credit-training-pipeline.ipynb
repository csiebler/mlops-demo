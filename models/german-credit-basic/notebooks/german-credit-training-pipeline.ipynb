{
 "cells": [
  {
   "cell_type": "markdown",
   "metadata": {},
   "source": [
    "# Connect to workspace"
   ]
  },
  {
   "cell_type": "code",
   "execution_count": null,
   "metadata": {
    "tags": []
   },
   "outputs": [],
   "source": [
    "import os\n",
    "import azureml.core\n",
    "from azureml.core import Workspace, Experiment, Dataset, RunConfiguration\n",
    "from azureml.pipeline.core import Pipeline, PipelineData\n",
    "from azureml.pipeline.steps import PythonScriptStep\n",
    "from azureml.data.dataset_consumption_config import DatasetConsumptionConfig\n",
    "\n",
    "print(\"Azure ML SDK version:\", azureml.core.VERSION)\n",
    "\n",
    "ws = Workspace.from_config()\n",
    "print(ws)"
   ]
  },
  {
   "cell_type": "markdown",
   "metadata": {},
   "source": [
    "# Create Pipeline"
   ]
  },
  {
   "cell_type": "code",
   "execution_count": null,
   "metadata": {
    "tags": []
   },
   "outputs": [],
   "source": [
    "dataset = Dataset.get_by_name(ws, \"german_credit_file\")\n",
    "dataset_consumption = DatasetConsumptionConfig(\"training_dataset\", dataset).as_download()"
   ]
  },
  {
   "cell_type": "code",
   "execution_count": null,
   "metadata": {},
   "outputs": [],
   "source": [
    "from azureml.core import Environment\n",
    "from azureml.core.conda_dependencies import CondaDependencies\n",
    "\n",
    "runconfig = RunConfiguration()\n",
    "runconfig.target = 'cpu-cluster'\n",
    "\n",
    "train_env = Environment(\"train-env\")\n",
    "train_env.docker.enabled = True\n",
    "train_env.python.conda_dependencies = CondaDependencies(\"../azureml/conda.yml\")\n",
    "\n",
    "runconfig.environment = train_env\n",
    "\n",
    "\n",
    "train_step = PythonScriptStep(name=\"train-step\",\n",
    "                        source_directory=\"../\",\n",
    "                        script_name=\"train.py\",\n",
    "                        arguments=['--data_path', dataset_consumption],\n",
    "                        inputs=[dataset_consumption],\n",
    "                        runconfig=runconfig,\n",
    "                        allow_reuse=False)\n",
    "\n",
    "steps = [train_step]\n",
    "\n",
    "pipeline = Pipeline(workspace=ws, steps=steps)\n",
    "pipeline.validate()"
   ]
  },
  {
   "cell_type": "code",
   "execution_count": null,
   "metadata": {},
   "outputs": [],
   "source": [
    "pipeline_run = Experiment(ws, 'german-credit-training').submit(pipeline)\n",
    "pipeline_run.wait_for_completion()"
   ]
  },
  {
   "cell_type": "markdown",
   "metadata": {},
   "source": [
    "Publish pipelines to AML Workspace for reuse:"
   ]
  },
  {
   "cell_type": "code",
   "execution_count": null,
   "metadata": {},
   "outputs": [],
   "source": [
    "published_pipeline = pipeline.publish('german-credit-training')\n",
    "published_pipeline\n"
   ]
  }
 ],
 "metadata": {
  "kernelspec": {
   "display_name": "Python 3.7.9 64-bit ('azureml': conda)",
   "metadata": {
    "interpreter": {
     "hash": "54b76a1167e0a2b6a6b8c7f2df323eb2ecfae9d2bbefe58fb0609bf9141d6860"
    }
   },
   "name": "python3"
  },
  "language_info": {
   "codemirror_mode": {
    "name": "ipython",
    "version": 3
   },
   "file_extension": ".py",
   "mimetype": "text/x-python",
   "name": "python",
   "nbconvert_exporter": "python",
   "pygments_lexer": "ipython3",
   "version": "3.7.9"
  }
 },
 "nbformat": 4,
 "nbformat_minor": 4
}
